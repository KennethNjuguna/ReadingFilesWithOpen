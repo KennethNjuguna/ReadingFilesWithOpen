{
 "cells": [
  {
   "attachments": {},
   "cell_type": "markdown",
   "metadata": {},
   "source": [
    "# <h3>Model Development. </h3>\n",
    "# <h4>Helps in prediction of future observations from the data we have. </h4>"
   ]
  }
 ],
 "metadata": {
  "language_info": {
   "name": "python"
  },
  "orig_nbformat": 4
 },
 "nbformat": 4,
 "nbformat_minor": 2
}
